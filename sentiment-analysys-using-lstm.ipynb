{
 "cells": [
  {
   "cell_type": "markdown",
   "id": "a11c6290",
   "metadata": {
    "papermill": {
     "duration": 0.010665,
     "end_time": "2024-09-19T19:30:50.149513",
     "exception": false,
     "start_time": "2024-09-19T19:30:50.138848",
     "status": "completed"
    },
    "tags": []
   },
   "source": [
    "# Data Preprocessing"
   ]
  },
  {
   "cell_type": "code",
   "execution_count": 1,
   "id": "ce72a242",
   "metadata": {
    "_cell_guid": "b1076dfc-b9ad-4769-8c92-a6c4dae69d19",
    "_uuid": "8f2839f25d086af736a60e9eeb907d3b93b6e0e5",
    "execution": {
     "iopub.execute_input": "2024-09-19T19:30:50.171207Z",
     "iopub.status.busy": "2024-09-19T19:30:50.170634Z",
     "iopub.status.idle": "2024-09-19T19:30:50.183548Z",
     "shell.execute_reply": "2024-09-19T19:30:50.182309Z"
    },
    "papermill": {
     "duration": 0.026648,
     "end_time": "2024-09-19T19:30:50.186158",
     "exception": false,
     "start_time": "2024-09-19T19:30:50.159510",
     "status": "completed"
    },
    "tags": []
   },
   "outputs": [],
   "source": [
    "train_dataset = './dataset/train.csv'\n",
    "test_dataset = './dataset/test.csv'"
   ]
  },
  {
   "cell_type": "code",
   "execution_count": 2,
   "id": "d2d78b8f",
   "metadata": {
    "execution": {
     "iopub.execute_input": "2024-09-19T19:30:50.207396Z",
     "iopub.status.busy": "2024-09-19T19:30:50.206490Z",
     "iopub.status.idle": "2024-09-19T19:30:50.659853Z",
     "shell.execute_reply": "2024-09-19T19:30:50.658757Z"
    },
    "papermill": {
     "duration": 0.467404,
     "end_time": "2024-09-19T19:30:50.663159",
     "exception": false,
     "start_time": "2024-09-19T19:30:50.195755",
     "status": "completed"
    },
    "tags": []
   },
   "outputs": [],
   "source": [
    "import pandas as pd"
   ]
  },
  {
   "cell_type": "code",
   "execution_count": 3,
   "id": "822c64a9",
   "metadata": {
    "execution": {
     "iopub.execute_input": "2024-09-19T19:30:50.684326Z",
     "iopub.status.busy": "2024-09-19T19:30:50.683753Z",
     "iopub.status.idle": "2024-09-19T19:30:50.927636Z",
     "shell.execute_reply": "2024-09-19T19:30:50.926441Z"
    },
    "papermill": {
     "duration": 0.257874,
     "end_time": "2024-09-19T19:30:50.930664",
     "exception": false,
     "start_time": "2024-09-19T19:30:50.672790",
     "status": "completed"
    },
    "tags": []
   },
   "outputs": [],
   "source": [
    "import pandas as pd\n",
    "train_data = pd.read_csv(train_dataset, encoding='ISO-8859-1')\n",
    "test_data = pd.read_csv(test_dataset,encoding=\"ISO-8859-1\")\n",
    "data = pd.concat([train_data,test_data])"
   ]
  },
  {
   "cell_type": "code",
   "execution_count": 4,
   "id": "dd10d3a0",
   "metadata": {
    "execution": {
     "iopub.execute_input": "2024-09-19T19:30:50.952085Z",
     "iopub.status.busy": "2024-09-19T19:30:50.951661Z",
     "iopub.status.idle": "2024-09-19T19:30:50.976107Z",
     "shell.execute_reply": "2024-09-19T19:30:50.975089Z"
    },
    "papermill": {
     "duration": 0.037943,
     "end_time": "2024-09-19T19:30:50.978509",
     "exception": false,
     "start_time": "2024-09-19T19:30:50.940566",
     "status": "completed"
    },
    "tags": []
   },
   "outputs": [
    {
     "data": {
      "text/html": [
       "<div>\n",
       "<style scoped>\n",
       "    .dataframe tbody tr th:only-of-type {\n",
       "        vertical-align: middle;\n",
       "    }\n",
       "\n",
       "    .dataframe tbody tr th {\n",
       "        vertical-align: top;\n",
       "    }\n",
       "\n",
       "    .dataframe thead th {\n",
       "        text-align: right;\n",
       "    }\n",
       "</style>\n",
       "<table border=\"1\" class=\"dataframe\">\n",
       "  <thead>\n",
       "    <tr style=\"text-align: right;\">\n",
       "      <th></th>\n",
       "      <th>textID</th>\n",
       "      <th>text</th>\n",
       "      <th>selected_text</th>\n",
       "      <th>sentiment</th>\n",
       "      <th>Time of Tweet</th>\n",
       "      <th>Age of User</th>\n",
       "      <th>Country</th>\n",
       "      <th>Population -2020</th>\n",
       "      <th>Land Area (Km²)</th>\n",
       "      <th>Density (P/Km²)</th>\n",
       "    </tr>\n",
       "  </thead>\n",
       "  <tbody>\n",
       "    <tr>\n",
       "      <th>0</th>\n",
       "      <td>cb774db0d1</td>\n",
       "      <td>I`d have responded, if I were going</td>\n",
       "      <td>I`d have responded, if I were going</td>\n",
       "      <td>neutral</td>\n",
       "      <td>morning</td>\n",
       "      <td>0-20</td>\n",
       "      <td>Afghanistan</td>\n",
       "      <td>38928346.0</td>\n",
       "      <td>652860.0</td>\n",
       "      <td>60.0</td>\n",
       "    </tr>\n",
       "    <tr>\n",
       "      <th>1</th>\n",
       "      <td>549e992a42</td>\n",
       "      <td>Sooo SAD I will miss you here in San Diego!!!</td>\n",
       "      <td>Sooo SAD</td>\n",
       "      <td>negative</td>\n",
       "      <td>noon</td>\n",
       "      <td>21-30</td>\n",
       "      <td>Albania</td>\n",
       "      <td>2877797.0</td>\n",
       "      <td>27400.0</td>\n",
       "      <td>105.0</td>\n",
       "    </tr>\n",
       "    <tr>\n",
       "      <th>2</th>\n",
       "      <td>088c60f138</td>\n",
       "      <td>my boss is bullying me...</td>\n",
       "      <td>bullying me</td>\n",
       "      <td>negative</td>\n",
       "      <td>night</td>\n",
       "      <td>31-45</td>\n",
       "      <td>Algeria</td>\n",
       "      <td>43851044.0</td>\n",
       "      <td>2381740.0</td>\n",
       "      <td>18.0</td>\n",
       "    </tr>\n",
       "    <tr>\n",
       "      <th>3</th>\n",
       "      <td>9642c003ef</td>\n",
       "      <td>what interview! leave me alone</td>\n",
       "      <td>leave me alone</td>\n",
       "      <td>negative</td>\n",
       "      <td>morning</td>\n",
       "      <td>46-60</td>\n",
       "      <td>Andorra</td>\n",
       "      <td>77265.0</td>\n",
       "      <td>470.0</td>\n",
       "      <td>164.0</td>\n",
       "    </tr>\n",
       "    <tr>\n",
       "      <th>4</th>\n",
       "      <td>358bd9e861</td>\n",
       "      <td>Sons of ****, why couldn`t they put them on t...</td>\n",
       "      <td>Sons of ****,</td>\n",
       "      <td>negative</td>\n",
       "      <td>noon</td>\n",
       "      <td>60-70</td>\n",
       "      <td>Angola</td>\n",
       "      <td>32866272.0</td>\n",
       "      <td>1246700.0</td>\n",
       "      <td>26.0</td>\n",
       "    </tr>\n",
       "  </tbody>\n",
       "</table>\n",
       "</div>"
      ],
      "text/plain": [
       "       textID                                               text  \\\n",
       "0  cb774db0d1                I`d have responded, if I were going   \n",
       "1  549e992a42      Sooo SAD I will miss you here in San Diego!!!   \n",
       "2  088c60f138                          my boss is bullying me...   \n",
       "3  9642c003ef                     what interview! leave me alone   \n",
       "4  358bd9e861   Sons of ****, why couldn`t they put them on t...   \n",
       "\n",
       "                         selected_text sentiment Time of Tweet Age of User  \\\n",
       "0  I`d have responded, if I were going   neutral       morning        0-20   \n",
       "1                             Sooo SAD  negative          noon       21-30   \n",
       "2                          bullying me  negative         night       31-45   \n",
       "3                       leave me alone  negative       morning       46-60   \n",
       "4                        Sons of ****,  negative          noon       60-70   \n",
       "\n",
       "       Country  Population -2020  Land Area (Km²)  Density (P/Km²)  \n",
       "0  Afghanistan        38928346.0         652860.0             60.0  \n",
       "1      Albania         2877797.0          27400.0            105.0  \n",
       "2      Algeria        43851044.0        2381740.0             18.0  \n",
       "3      Andorra           77265.0            470.0            164.0  \n",
       "4       Angola        32866272.0        1246700.0             26.0  "
      ]
     },
     "execution_count": 4,
     "metadata": {},
     "output_type": "execute_result"
    }
   ],
   "source": [
    "data.head()"
   ]
  },
  {
   "cell_type": "code",
   "execution_count": 5,
   "id": "a931ef80",
   "metadata": {
    "execution": {
     "iopub.execute_input": "2024-09-19T19:30:51.000079Z",
     "iopub.status.busy": "2024-09-19T19:30:50.999654Z",
     "iopub.status.idle": "2024-09-19T19:30:51.048594Z",
     "shell.execute_reply": "2024-09-19T19:30:51.047289Z"
    },
    "papermill": {
     "duration": 0.062944,
     "end_time": "2024-09-19T19:30:51.051418",
     "exception": false,
     "start_time": "2024-09-19T19:30:50.988474",
     "status": "completed"
    },
    "tags": []
   },
   "outputs": [
    {
     "name": "stdout",
     "output_type": "stream",
     "text": [
      "<class 'pandas.core.frame.DataFrame'>\n",
      "Index: 32296 entries, 0 to 4814\n",
      "Data columns (total 10 columns):\n",
      " #   Column            Non-Null Count  Dtype  \n",
      "---  ------            --------------  -----  \n",
      " 0   textID            31015 non-null  object \n",
      " 1   text              31014 non-null  object \n",
      " 2   selected_text     27480 non-null  object \n",
      " 3   sentiment         31015 non-null  object \n",
      " 4   Time of Tweet     31015 non-null  object \n",
      " 5   Age of User       31015 non-null  object \n",
      " 6   Country           31015 non-null  object \n",
      " 7   Population -2020  31015 non-null  float64\n",
      " 8   Land Area (Km²)   31015 non-null  float64\n",
      " 9   Density (P/Km²)   31015 non-null  float64\n",
      "dtypes: float64(3), object(7)\n",
      "memory usage: 2.7+ MB\n"
     ]
    }
   ],
   "source": [
    "data.info()"
   ]
  },
  {
   "cell_type": "code",
   "execution_count": 6,
   "id": "b970a34f",
   "metadata": {
    "execution": {
     "iopub.execute_input": "2024-09-19T19:30:51.073397Z",
     "iopub.status.busy": "2024-09-19T19:30:51.072951Z",
     "iopub.status.idle": "2024-09-19T19:30:51.113519Z",
     "shell.execute_reply": "2024-09-19T19:30:51.112410Z"
    },
    "papermill": {
     "duration": 0.054771,
     "end_time": "2024-09-19T19:30:51.116251",
     "exception": false,
     "start_time": "2024-09-19T19:30:51.061480",
     "status": "completed"
    },
    "tags": []
   },
   "outputs": [],
   "source": [
    "data.dropna(inplace=True)"
   ]
  },
  {
   "cell_type": "code",
   "execution_count": 7,
   "id": "43089096",
   "metadata": {
    "execution": {
     "iopub.execute_input": "2024-09-19T19:30:51.137923Z",
     "iopub.status.busy": "2024-09-19T19:30:51.137503Z",
     "iopub.status.idle": "2024-09-19T19:30:51.156782Z",
     "shell.execute_reply": "2024-09-19T19:30:51.155571Z"
    },
    "papermill": {
     "duration": 0.03321,
     "end_time": "2024-09-19T19:30:51.159366",
     "exception": false,
     "start_time": "2024-09-19T19:30:51.126156",
     "status": "completed"
    },
    "tags": []
   },
   "outputs": [
    {
     "data": {
      "text/html": [
       "<div>\n",
       "<style scoped>\n",
       "    .dataframe tbody tr th:only-of-type {\n",
       "        vertical-align: middle;\n",
       "    }\n",
       "\n",
       "    .dataframe tbody tr th {\n",
       "        vertical-align: top;\n",
       "    }\n",
       "\n",
       "    .dataframe thead th {\n",
       "        text-align: right;\n",
       "    }\n",
       "</style>\n",
       "<table border=\"1\" class=\"dataframe\">\n",
       "  <thead>\n",
       "    <tr style=\"text-align: right;\">\n",
       "      <th></th>\n",
       "      <th>text</th>\n",
       "      <th>sentiment</th>\n",
       "    </tr>\n",
       "  </thead>\n",
       "  <tbody>\n",
       "    <tr>\n",
       "      <th>0</th>\n",
       "      <td>I`d have responded, if I were going</td>\n",
       "      <td>neutral</td>\n",
       "    </tr>\n",
       "    <tr>\n",
       "      <th>1</th>\n",
       "      <td>Sooo SAD I will miss you here in San Diego!!!</td>\n",
       "      <td>negative</td>\n",
       "    </tr>\n",
       "    <tr>\n",
       "      <th>2</th>\n",
       "      <td>my boss is bullying me...</td>\n",
       "      <td>negative</td>\n",
       "    </tr>\n",
       "    <tr>\n",
       "      <th>3</th>\n",
       "      <td>what interview! leave me alone</td>\n",
       "      <td>negative</td>\n",
       "    </tr>\n",
       "    <tr>\n",
       "      <th>4</th>\n",
       "      <td>Sons of ****, why couldn`t they put them on t...</td>\n",
       "      <td>negative</td>\n",
       "    </tr>\n",
       "  </tbody>\n",
       "</table>\n",
       "</div>"
      ],
      "text/plain": [
       "                                                text sentiment\n",
       "0                I`d have responded, if I were going   neutral\n",
       "1      Sooo SAD I will miss you here in San Diego!!!  negative\n",
       "2                          my boss is bullying me...  negative\n",
       "3                     what interview! leave me alone  negative\n",
       "4   Sons of ****, why couldn`t they put them on t...  negative"
      ]
     },
     "execution_count": 7,
     "metadata": {},
     "output_type": "execute_result"
    }
   ],
   "source": [
    "final_corpus = data['text'].astype(str).tolist()\n",
    "data_eda = pd.DataFrame()\n",
    "data_eda['text'] = final_corpus\n",
    "data_eda['sentiment'] = data[\"sentiment\"].values\n",
    "data_eda.head()"
   ]
  },
  {
   "cell_type": "code",
   "execution_count": 8,
   "id": "fdce2dd2",
   "metadata": {
    "execution": {
     "iopub.execute_input": "2024-09-19T19:30:51.181484Z",
     "iopub.status.busy": "2024-09-19T19:30:51.181046Z",
     "iopub.status.idle": "2024-09-19T19:30:52.047192Z",
     "shell.execute_reply": "2024-09-19T19:30:52.046049Z"
    },
    "papermill": {
     "duration": 0.880398,
     "end_time": "2024-09-19T19:30:52.049968",
     "exception": false,
     "start_time": "2024-09-19T19:30:51.169570",
     "status": "completed"
    },
    "tags": []
   },
   "outputs": [
    {
     "name": "stderr",
     "output_type": "stream",
     "text": [
      "<>:4: SyntaxWarning: invalid escape sequence '\\S'\n",
      "<>:8: SyntaxWarning: invalid escape sequence '\\w'\n",
      "<>:4: SyntaxWarning: invalid escape sequence '\\S'\n",
      "<>:8: SyntaxWarning: invalid escape sequence '\\w'\n",
      "C:\\Users\\rk225\\AppData\\Local\\Temp\\ipykernel_17276\\4244050370.py:4: SyntaxWarning: invalid escape sequence '\\S'\n",
      "  text = re.sub('https?://\\S+|www\\.\\S+', '', text)\n",
      "C:\\Users\\rk225\\AppData\\Local\\Temp\\ipykernel_17276\\4244050370.py:8: SyntaxWarning: invalid escape sequence '\\w'\n",
      "  text = re.sub('\\w*\\d\\w*', '', text)\n"
     ]
    }
   ],
   "source": [
    "import string\n",
    "import re\n",
    "def wp(text):\n",
    "    text = re.sub('https?://\\S+|www\\.\\S+', '', text)\n",
    "    text = re.sub('<.*?>+', '', text)\n",
    "    text = re.sub('[%s]' % re.escape(string.punctuation), '', text)\n",
    "    text = re.sub('\\n', '', text)\n",
    "    text = re.sub('\\w*\\d\\w*', '', text)\n",
    "    return text\n",
    "data_eda['text'] = data_eda[\"text\"].apply(wp)"
   ]
  },
  {
   "cell_type": "code",
   "execution_count": 9,
   "id": "ee418829",
   "metadata": {
    "execution": {
     "iopub.execute_input": "2024-09-19T19:30:52.073080Z",
     "iopub.status.busy": "2024-09-19T19:30:52.072671Z",
     "iopub.status.idle": "2024-09-19T19:30:52.087450Z",
     "shell.execute_reply": "2024-09-19T19:30:52.086159Z"
    },
    "papermill": {
     "duration": 0.029275,
     "end_time": "2024-09-19T19:30:52.089785",
     "exception": false,
     "start_time": "2024-09-19T19:30:52.060510",
     "status": "completed"
    },
    "tags": []
   },
   "outputs": [
    {
     "data": {
      "text/html": [
       "<div>\n",
       "<style scoped>\n",
       "    .dataframe tbody tr th:only-of-type {\n",
       "        vertical-align: middle;\n",
       "    }\n",
       "\n",
       "    .dataframe tbody tr th {\n",
       "        vertical-align: top;\n",
       "    }\n",
       "\n",
       "    .dataframe thead th {\n",
       "        text-align: right;\n",
       "    }\n",
       "</style>\n",
       "<table border=\"1\" class=\"dataframe\">\n",
       "  <thead>\n",
       "    <tr style=\"text-align: right;\">\n",
       "      <th></th>\n",
       "      <th>text</th>\n",
       "      <th>sentiment</th>\n",
       "    </tr>\n",
       "  </thead>\n",
       "  <tbody>\n",
       "    <tr>\n",
       "      <th>0</th>\n",
       "      <td>Id have responded if I were going</td>\n",
       "      <td>neutral</td>\n",
       "    </tr>\n",
       "    <tr>\n",
       "      <th>1</th>\n",
       "      <td>Sooo SAD I will miss you here in San Diego</td>\n",
       "      <td>negative</td>\n",
       "    </tr>\n",
       "    <tr>\n",
       "      <th>2</th>\n",
       "      <td>my boss is bullying me</td>\n",
       "      <td>negative</td>\n",
       "    </tr>\n",
       "    <tr>\n",
       "      <th>3</th>\n",
       "      <td>what interview leave me alone</td>\n",
       "      <td>negative</td>\n",
       "    </tr>\n",
       "    <tr>\n",
       "      <th>4</th>\n",
       "      <td>Sons of  why couldnt they put them on the rel...</td>\n",
       "      <td>negative</td>\n",
       "    </tr>\n",
       "    <tr>\n",
       "      <th>...</th>\n",
       "      <td>...</td>\n",
       "      <td>...</td>\n",
       "    </tr>\n",
       "    <tr>\n",
       "      <th>27475</th>\n",
       "      <td>wish we could come see u on Denver  husband l...</td>\n",
       "      <td>negative</td>\n",
       "    </tr>\n",
       "    <tr>\n",
       "      <th>27476</th>\n",
       "      <td>Ive wondered about rake to  The client has ma...</td>\n",
       "      <td>negative</td>\n",
       "    </tr>\n",
       "    <tr>\n",
       "      <th>27477</th>\n",
       "      <td>Yay good for both of you Enjoy the break  you...</td>\n",
       "      <td>positive</td>\n",
       "    </tr>\n",
       "    <tr>\n",
       "      <th>27478</th>\n",
       "      <td>But it was worth it</td>\n",
       "      <td>positive</td>\n",
       "    </tr>\n",
       "    <tr>\n",
       "      <th>27479</th>\n",
       "      <td>All this flirting going on  The ATG smiles ...</td>\n",
       "      <td>neutral</td>\n",
       "    </tr>\n",
       "  </tbody>\n",
       "</table>\n",
       "<p>27480 rows × 2 columns</p>\n",
       "</div>"
      ],
      "text/plain": [
       "                                                    text sentiment\n",
       "0                      Id have responded if I were going   neutral\n",
       "1             Sooo SAD I will miss you here in San Diego  negative\n",
       "2                                 my boss is bullying me  negative\n",
       "3                          what interview leave me alone  negative\n",
       "4       Sons of  why couldnt they put them on the rel...  negative\n",
       "...                                                  ...       ...\n",
       "27475   wish we could come see u on Denver  husband l...  negative\n",
       "27476   Ive wondered about rake to  The client has ma...  negative\n",
       "27477   Yay good for both of you Enjoy the break  you...  positive\n",
       "27478                              But it was worth it    positive\n",
       "27479     All this flirting going on  The ATG smiles ...   neutral\n",
       "\n",
       "[27480 rows x 2 columns]"
      ]
     },
     "execution_count": 9,
     "metadata": {},
     "output_type": "execute_result"
    }
   ],
   "source": [
    "data_eda"
   ]
  },
  {
   "cell_type": "code",
   "execution_count": 10,
   "id": "542efbda",
   "metadata": {
    "execution": {
     "iopub.execute_input": "2024-09-19T19:30:52.113262Z",
     "iopub.status.busy": "2024-09-19T19:30:52.112818Z",
     "iopub.status.idle": "2024-09-19T19:30:52.239577Z",
     "shell.execute_reply": "2024-09-19T19:30:52.238379Z"
    },
    "papermill": {
     "duration": 0.142199,
     "end_time": "2024-09-19T19:30:52.242672",
     "exception": false,
     "start_time": "2024-09-19T19:30:52.100473",
     "status": "completed"
    },
    "tags": []
   },
   "outputs": [],
   "source": [
    "data_eda.to_csv(\"data_eda.csv\", index=False)"
   ]
  },
  {
   "cell_type": "code",
   "execution_count": 11,
   "id": "53f33e51",
   "metadata": {
    "execution": {
     "iopub.execute_input": "2024-09-19T19:30:52.266140Z",
     "iopub.status.busy": "2024-09-19T19:30:52.265100Z",
     "iopub.status.idle": "2024-09-19T19:30:52.275465Z",
     "shell.execute_reply": "2024-09-19T19:30:52.274211Z"
    },
    "papermill": {
     "duration": 0.024823,
     "end_time": "2024-09-19T19:30:52.277993",
     "exception": false,
     "start_time": "2024-09-19T19:30:52.253170",
     "status": "completed"
    },
    "tags": []
   },
   "outputs": [],
   "source": [
    "data_eda['sentiment_code'] = data_eda['sentiment'].astype('category').cat.codes"
   ]
  },
  {
   "cell_type": "markdown",
   "id": "33aff1ad",
   "metadata": {
    "papermill": {
     "duration": 0.011476,
     "end_time": "2024-09-19T19:30:52.300441",
     "exception": false,
     "start_time": "2024-09-19T19:30:52.288965",
     "status": "completed"
    },
    "tags": []
   },
   "source": [
    "## Feature Extraction"
   ]
  },
  {
   "cell_type": "code",
   "execution_count": 12,
   "id": "a34bb2b5",
   "metadata": {
    "execution": {
     "iopub.execute_input": "2024-09-19T19:30:52.323362Z",
     "iopub.status.busy": "2024-09-19T19:30:52.322922Z",
     "iopub.status.idle": "2024-09-19T19:30:52.328617Z",
     "shell.execute_reply": "2024-09-19T19:30:52.327307Z"
    },
    "papermill": {
     "duration": 0.020313,
     "end_time": "2024-09-19T19:30:52.331299",
     "exception": false,
     "start_time": "2024-09-19T19:30:52.310986",
     "status": "completed"
    },
    "tags": []
   },
   "outputs": [],
   "source": [
    "X=data_eda['text']\n",
    "y= data_eda['sentiment_code']"
   ]
  },
  {
   "cell_type": "markdown",
   "id": "e3476af2",
   "metadata": {
    "papermill": {
     "duration": 0.010493,
     "end_time": "2024-09-19T19:30:52.353318",
     "exception": false,
     "start_time": "2024-09-19T19:30:52.342825",
     "status": "completed"
    },
    "tags": []
   },
   "source": [
    "## Word To Token"
   ]
  },
  {
   "cell_type": "code",
   "execution_count": 13,
   "id": "12ac9aef",
   "metadata": {
    "execution": {
     "iopub.execute_input": "2024-09-19T19:30:52.376519Z",
     "iopub.status.busy": "2024-09-19T19:30:52.376047Z",
     "iopub.status.idle": "2024-09-19T19:31:07.848881Z",
     "shell.execute_reply": "2024-09-19T19:31:07.847279Z"
    },
    "papermill": {
     "duration": 15.488127,
     "end_time": "2024-09-19T19:31:07.852068",
     "exception": false,
     "start_time": "2024-09-19T19:30:52.363941",
     "status": "completed"
    },
    "tags": []
   },
   "outputs": [],
   "source": [
    "import tensorflow as tf\n",
    "from tensorflow.keras.preprocessing.text import Tokenizer\n",
    "tokenizer = Tokenizer()"
   ]
  },
  {
   "cell_type": "code",
   "execution_count": 14,
   "id": "5a16296f",
   "metadata": {
    "execution": {
     "iopub.execute_input": "2024-09-19T19:31:07.876999Z",
     "iopub.status.busy": "2024-09-19T19:31:07.876252Z",
     "iopub.status.idle": "2024-09-19T19:31:08.586188Z",
     "shell.execute_reply": "2024-09-19T19:31:08.584814Z"
    },
    "papermill": {
     "duration": 0.72567,
     "end_time": "2024-09-19T19:31:08.589135",
     "exception": false,
     "start_time": "2024-09-19T19:31:07.863465",
     "status": "completed"
    },
    "tags": []
   },
   "outputs": [],
   "source": [
    "tokenizer.fit_on_texts(X)"
   ]
  },
  {
   "cell_type": "code",
   "execution_count": 15,
   "id": "7c71d9bb",
   "metadata": {
    "execution": {
     "iopub.execute_input": "2024-09-19T19:31:08.612293Z",
     "iopub.status.busy": "2024-09-19T19:31:08.611814Z",
     "iopub.status.idle": "2024-09-19T19:31:09.422910Z",
     "shell.execute_reply": "2024-09-19T19:31:09.421418Z"
    },
    "papermill": {
     "duration": 0.82612,
     "end_time": "2024-09-19T19:31:09.425910",
     "exception": false,
     "start_time": "2024-09-19T19:31:08.599790",
     "status": "completed"
    },
    "tags": []
   },
   "outputs": [],
   "source": [
    "input_sequences = []\n",
    "for sentence in X:\n",
    "    tokenized_sentence = tokenizer.texts_to_sequences([sentence])[0]\n",
    "    input_sequences.append(tokenized_sentence)"
   ]
  },
  {
   "cell_type": "code",
   "execution_count": 16,
   "id": "9bed3951",
   "metadata": {
    "execution": {
     "iopub.execute_input": "2024-09-19T19:31:09.449007Z",
     "iopub.status.busy": "2024-09-19T19:31:09.448561Z",
     "iopub.status.idle": "2024-09-19T19:31:09.460505Z",
     "shell.execute_reply": "2024-09-19T19:31:09.459129Z"
    },
    "papermill": {
     "duration": 0.0266,
     "end_time": "2024-09-19T19:31:09.463167",
     "exception": false,
     "start_time": "2024-09-19T19:31:09.436567",
     "status": "completed"
    },
    "tags": []
   },
   "outputs": [
    {
     "name": "stdout",
     "output_type": "stream",
     "text": [
      "32\n"
     ]
    }
   ],
   "source": [
    "from tensorflow.keras.preprocessing.sequence import pad_sequences\n",
    "MAX_LENGTH = max([len(x) for x in input_sequences])\n",
    "print(MAX_LENGTH)"
   ]
  },
  {
   "cell_type": "code",
   "execution_count": 17,
   "id": "1398654f",
   "metadata": {
    "execution": {
     "iopub.execute_input": "2024-09-19T19:31:09.487459Z",
     "iopub.status.busy": "2024-09-19T19:31:09.486028Z",
     "iopub.status.idle": "2024-09-19T19:31:09.636159Z",
     "shell.execute_reply": "2024-09-19T19:31:09.634641Z"
    },
    "papermill": {
     "duration": 0.16543,
     "end_time": "2024-09-19T19:31:09.639230",
     "exception": false,
     "start_time": "2024-09-19T19:31:09.473800",
     "status": "completed"
    },
    "tags": []
   },
   "outputs": [],
   "source": [
    "enocoder_input = pad_sequences(input_sequences, maxlen=MAX_LENGTH, padding='pre')"
   ]
  },
  {
   "cell_type": "markdown",
   "id": "72d6df31",
   "metadata": {
    "papermill": {
     "duration": 0.010696,
     "end_time": "2024-09-19T19:31:09.660740",
     "exception": false,
     "start_time": "2024-09-19T19:31:09.650044",
     "status": "completed"
    },
    "tags": []
   },
   "source": [
    "# Model Building"
   ]
  },
  {
   "cell_type": "code",
   "execution_count": 18,
   "id": "786be528",
   "metadata": {
    "execution": {
     "iopub.execute_input": "2024-09-19T19:31:09.683908Z",
     "iopub.status.busy": "2024-09-19T19:31:09.683467Z",
     "iopub.status.idle": "2024-09-19T19:31:09.692782Z",
     "shell.execute_reply": "2024-09-19T19:31:09.691573Z"
    },
    "papermill": {
     "duration": 0.024163,
     "end_time": "2024-09-19T19:31:09.695698",
     "exception": false,
     "start_time": "2024-09-19T19:31:09.671535",
     "status": "completed"
    },
    "tags": []
   },
   "outputs": [],
   "source": [
    "from tensorflow.keras.layers import Input, Embedding, LSTM, Dense\n",
    "from tensorflow.keras.models import Model"
   ]
  },
  {
   "cell_type": "code",
   "execution_count": 19,
   "id": "ae0c716b",
   "metadata": {
    "execution": {
     "iopub.execute_input": "2024-09-19T19:31:09.719095Z",
     "iopub.status.busy": "2024-09-19T19:31:09.718646Z",
     "iopub.status.idle": "2024-09-19T19:31:09.848187Z",
     "shell.execute_reply": "2024-09-19T19:31:09.846637Z"
    },
    "papermill": {
     "duration": 0.14487,
     "end_time": "2024-09-19T19:31:09.851303",
     "exception": false,
     "start_time": "2024-09-19T19:31:09.706433",
     "status": "completed"
    },
    "tags": []
   },
   "outputs": [],
   "source": [
    "input = Input(shape=(MAX_LENGTH,))\n",
    "x = Embedding(len(tokenizer.word_index)+1, 10)(input)\n",
    "x = LSTM(64)(x)\n",
    "output = Dense(3, activation='softmax')(x)\n",
    "\n",
    "model = Model(input, output)"
   ]
  },
  {
   "cell_type": "code",
   "execution_count": 20,
   "id": "1fa3ee57",
   "metadata": {
    "execution": {
     "iopub.execute_input": "2024-09-19T19:31:09.874415Z",
     "iopub.status.busy": "2024-09-19T19:31:09.873912Z",
     "iopub.status.idle": "2024-09-19T19:31:09.893048Z",
     "shell.execute_reply": "2024-09-19T19:31:09.891958Z"
    },
    "papermill": {
     "duration": 0.033919,
     "end_time": "2024-09-19T19:31:09.895869",
     "exception": false,
     "start_time": "2024-09-19T19:31:09.861950",
     "status": "completed"
    },
    "tags": []
   },
   "outputs": [],
   "source": [
    "model.compile(optimizer='adam', loss='sparse_categorical_crossentropy', metrics=['accuracy'])"
   ]
  },
  {
   "cell_type": "code",
   "execution_count": 21,
   "id": "b172838f",
   "metadata": {
    "execution": {
     "iopub.execute_input": "2024-09-19T19:31:09.920423Z",
     "iopub.status.busy": "2024-09-19T19:31:09.919400Z",
     "iopub.status.idle": "2024-09-19T19:31:09.943394Z",
     "shell.execute_reply": "2024-09-19T19:31:09.942204Z"
    },
    "papermill": {
     "duration": 0.039228,
     "end_time": "2024-09-19T19:31:09.945785",
     "exception": false,
     "start_time": "2024-09-19T19:31:09.906557",
     "status": "completed"
    },
    "tags": []
   },
   "outputs": [
    {
     "data": {
      "text/html": [
       "<pre style=\"white-space:pre;overflow-x:auto;line-height:normal;font-family:Menlo,'DejaVu Sans Mono',consolas,'Courier New',monospace\"><span style=\"font-weight: bold\">Model: \"functional_1\"</span>\n",
       "</pre>\n"
      ],
      "text/plain": [
       "\u001b[1mModel: \"functional_1\"\u001b[0m\n"
      ]
     },
     "metadata": {},
     "output_type": "display_data"
    },
    {
     "data": {
      "text/html": [
       "<pre style=\"white-space:pre;overflow-x:auto;line-height:normal;font-family:Menlo,'DejaVu Sans Mono',consolas,'Courier New',monospace\">┏━━━━━━━━━━━━━━━━━━━━━━━━━━━━━━━━━┳━━━━━━━━━━━━━━━━━━━━━━━━┳━━━━━━━━━━━━━━━┓\n",
       "┃<span style=\"font-weight: bold\"> Layer (type)                    </span>┃<span style=\"font-weight: bold\"> Output Shape           </span>┃<span style=\"font-weight: bold\">       Param # </span>┃\n",
       "┡━━━━━━━━━━━━━━━━━━━━━━━━━━━━━━━━━╇━━━━━━━━━━━━━━━━━━━━━━━━╇━━━━━━━━━━━━━━━┩\n",
       "│ input_layer (<span style=\"color: #0087ff; text-decoration-color: #0087ff\">InputLayer</span>)        │ (<span style=\"color: #00d7ff; text-decoration-color: #00d7ff\">None</span>, <span style=\"color: #00af00; text-decoration-color: #00af00\">32</span>)             │             <span style=\"color: #00af00; text-decoration-color: #00af00\">0</span> │\n",
       "├─────────────────────────────────┼────────────────────────┼───────────────┤\n",
       "│ embedding (<span style=\"color: #0087ff; text-decoration-color: #0087ff\">Embedding</span>)           │ (<span style=\"color: #00d7ff; text-decoration-color: #00d7ff\">None</span>, <span style=\"color: #00af00; text-decoration-color: #00af00\">32</span>, <span style=\"color: #00af00; text-decoration-color: #00af00\">10</span>)         │       <span style=\"color: #00af00; text-decoration-color: #00af00\">265,370</span> │\n",
       "├─────────────────────────────────┼────────────────────────┼───────────────┤\n",
       "│ lstm (<span style=\"color: #0087ff; text-decoration-color: #0087ff\">LSTM</span>)                     │ (<span style=\"color: #00d7ff; text-decoration-color: #00d7ff\">None</span>, <span style=\"color: #00af00; text-decoration-color: #00af00\">64</span>)             │        <span style=\"color: #00af00; text-decoration-color: #00af00\">19,200</span> │\n",
       "├─────────────────────────────────┼────────────────────────┼───────────────┤\n",
       "│ dense (<span style=\"color: #0087ff; text-decoration-color: #0087ff\">Dense</span>)                   │ (<span style=\"color: #00d7ff; text-decoration-color: #00d7ff\">None</span>, <span style=\"color: #00af00; text-decoration-color: #00af00\">3</span>)              │           <span style=\"color: #00af00; text-decoration-color: #00af00\">195</span> │\n",
       "└─────────────────────────────────┴────────────────────────┴───────────────┘\n",
       "</pre>\n"
      ],
      "text/plain": [
       "┏━━━━━━━━━━━━━━━━━━━━━━━━━━━━━━━━━┳━━━━━━━━━━━━━━━━━━━━━━━━┳━━━━━━━━━━━━━━━┓\n",
       "┃\u001b[1m \u001b[0m\u001b[1mLayer (type)                   \u001b[0m\u001b[1m \u001b[0m┃\u001b[1m \u001b[0m\u001b[1mOutput Shape          \u001b[0m\u001b[1m \u001b[0m┃\u001b[1m \u001b[0m\u001b[1m      Param #\u001b[0m\u001b[1m \u001b[0m┃\n",
       "┡━━━━━━━━━━━━━━━━━━━━━━━━━━━━━━━━━╇━━━━━━━━━━━━━━━━━━━━━━━━╇━━━━━━━━━━━━━━━┩\n",
       "│ input_layer (\u001b[38;5;33mInputLayer\u001b[0m)        │ (\u001b[38;5;45mNone\u001b[0m, \u001b[38;5;34m32\u001b[0m)             │             \u001b[38;5;34m0\u001b[0m │\n",
       "├─────────────────────────────────┼────────────────────────┼───────────────┤\n",
       "│ embedding (\u001b[38;5;33mEmbedding\u001b[0m)           │ (\u001b[38;5;45mNone\u001b[0m, \u001b[38;5;34m32\u001b[0m, \u001b[38;5;34m10\u001b[0m)         │       \u001b[38;5;34m265,370\u001b[0m │\n",
       "├─────────────────────────────────┼────────────────────────┼───────────────┤\n",
       "│ lstm (\u001b[38;5;33mLSTM\u001b[0m)                     │ (\u001b[38;5;45mNone\u001b[0m, \u001b[38;5;34m64\u001b[0m)             │        \u001b[38;5;34m19,200\u001b[0m │\n",
       "├─────────────────────────────────┼────────────────────────┼───────────────┤\n",
       "│ dense (\u001b[38;5;33mDense\u001b[0m)                   │ (\u001b[38;5;45mNone\u001b[0m, \u001b[38;5;34m3\u001b[0m)              │           \u001b[38;5;34m195\u001b[0m │\n",
       "└─────────────────────────────────┴────────────────────────┴───────────────┘\n"
      ]
     },
     "metadata": {},
     "output_type": "display_data"
    },
    {
     "data": {
      "text/html": [
       "<pre style=\"white-space:pre;overflow-x:auto;line-height:normal;font-family:Menlo,'DejaVu Sans Mono',consolas,'Courier New',monospace\"><span style=\"font-weight: bold\"> Total params: </span><span style=\"color: #00af00; text-decoration-color: #00af00\">284,765</span> (1.09 MB)\n",
       "</pre>\n"
      ],
      "text/plain": [
       "\u001b[1m Total params: \u001b[0m\u001b[38;5;34m284,765\u001b[0m (1.09 MB)\n"
      ]
     },
     "metadata": {},
     "output_type": "display_data"
    },
    {
     "data": {
      "text/html": [
       "<pre style=\"white-space:pre;overflow-x:auto;line-height:normal;font-family:Menlo,'DejaVu Sans Mono',consolas,'Courier New',monospace\"><span style=\"font-weight: bold\"> Trainable params: </span><span style=\"color: #00af00; text-decoration-color: #00af00\">284,765</span> (1.09 MB)\n",
       "</pre>\n"
      ],
      "text/plain": [
       "\u001b[1m Trainable params: \u001b[0m\u001b[38;5;34m284,765\u001b[0m (1.09 MB)\n"
      ]
     },
     "metadata": {},
     "output_type": "display_data"
    },
    {
     "data": {
      "text/html": [
       "<pre style=\"white-space:pre;overflow-x:auto;line-height:normal;font-family:Menlo,'DejaVu Sans Mono',consolas,'Courier New',monospace\"><span style=\"font-weight: bold\"> Non-trainable params: </span><span style=\"color: #00af00; text-decoration-color: #00af00\">0</span> (0.00 B)\n",
       "</pre>\n"
      ],
      "text/plain": [
       "\u001b[1m Non-trainable params: \u001b[0m\u001b[38;5;34m0\u001b[0m (0.00 B)\n"
      ]
     },
     "metadata": {},
     "output_type": "display_data"
    }
   ],
   "source": [
    "model.summary()"
   ]
  },
  {
   "cell_type": "markdown",
   "id": "332a7880",
   "metadata": {
    "papermill": {
     "duration": 0.011526,
     "end_time": "2024-09-19T19:31:09.969048",
     "exception": false,
     "start_time": "2024-09-19T19:31:09.957522",
     "status": "completed"
    },
    "tags": []
   },
   "source": [
    "# Training"
   ]
  },
  {
   "cell_type": "code",
   "execution_count": 22,
   "id": "3bbce935",
   "metadata": {
    "execution": {
     "iopub.execute_input": "2024-09-19T19:31:09.994194Z",
     "iopub.status.busy": "2024-09-19T19:31:09.993738Z",
     "iopub.status.idle": "2024-09-19T19:33:39.664670Z",
     "shell.execute_reply": "2024-09-19T19:33:39.663425Z"
    },
    "papermill": {
     "duration": 149.687084,
     "end_time": "2024-09-19T19:33:39.667806",
     "exception": false,
     "start_time": "2024-09-19T19:31:09.980722",
     "status": "completed"
    },
    "tags": []
   },
   "outputs": [
    {
     "name": "stdout",
     "output_type": "stream",
     "text": [
      "Epoch 1/10\n",
      "\u001b[1m859/859\u001b[0m \u001b[32m━━━━━━━━━━━━━━━━━━━━\u001b[0m\u001b[37m\u001b[0m \u001b[1m16s\u001b[0m 16ms/step - accuracy: 0.5083 - loss: 0.9630\n",
      "Epoch 2/10\n",
      "\u001b[1m859/859\u001b[0m \u001b[32m━━━━━━━━━━━━━━━━━━━━\u001b[0m\u001b[37m\u001b[0m \u001b[1m14s\u001b[0m 16ms/step - accuracy: 0.7574 - loss: 0.5931\n",
      "Epoch 3/10\n",
      "\u001b[1m859/859\u001b[0m \u001b[32m━━━━━━━━━━━━━━━━━━━━\u001b[0m\u001b[37m\u001b[0m \u001b[1m14s\u001b[0m 16ms/step - accuracy: 0.8282 - loss: 0.4523\n",
      "Epoch 4/10\n",
      "\u001b[1m859/859\u001b[0m \u001b[32m━━━━━━━━━━━━━━━━━━━━\u001b[0m\u001b[37m\u001b[0m \u001b[1m14s\u001b[0m 16ms/step - accuracy: 0.8759 - loss: 0.3468\n",
      "Epoch 5/10\n",
      "\u001b[1m859/859\u001b[0m \u001b[32m━━━━━━━━━━━━━━━━━━━━\u001b[0m\u001b[37m\u001b[0m \u001b[1m21s\u001b[0m 16ms/step - accuracy: 0.9038 - loss: 0.2824\n",
      "Epoch 6/10\n",
      "\u001b[1m859/859\u001b[0m \u001b[32m━━━━━━━━━━━━━━━━━━━━\u001b[0m\u001b[37m\u001b[0m \u001b[1m14s\u001b[0m 16ms/step - accuracy: 0.9201 - loss: 0.2399\n",
      "Epoch 7/10\n",
      "\u001b[1m859/859\u001b[0m \u001b[32m━━━━━━━━━━━━━━━━━━━━\u001b[0m\u001b[37m\u001b[0m \u001b[1m15s\u001b[0m 17ms/step - accuracy: 0.9347 - loss: 0.2013\n",
      "Epoch 8/10\n",
      "\u001b[1m859/859\u001b[0m \u001b[32m━━━━━━━━━━━━━━━━━━━━\u001b[0m\u001b[37m\u001b[0m \u001b[1m14s\u001b[0m 16ms/step - accuracy: 0.9405 - loss: 0.1851\n",
      "Epoch 9/10\n",
      "\u001b[1m859/859\u001b[0m \u001b[32m━━━━━━━━━━━━━━━━━━━━\u001b[0m\u001b[37m\u001b[0m \u001b[1m14s\u001b[0m 17ms/step - accuracy: 0.9466 - loss: 0.1658\n",
      "Epoch 10/10\n",
      "\u001b[1m859/859\u001b[0m \u001b[32m━━━━━━━━━━━━━━━━━━━━\u001b[0m\u001b[37m\u001b[0m \u001b[1m14s\u001b[0m 16ms/step - accuracy: 0.9512 - loss: 0.1477\n"
     ]
    }
   ],
   "source": [
    "history = model.fit(enocoder_input, y, epochs=10)"
   ]
  },
  {
   "cell_type": "markdown",
   "id": "54d9bd5b",
   "metadata": {
    "papermill": {
     "duration": 0.304139,
     "end_time": "2024-09-19T19:33:40.214054",
     "exception": false,
     "start_time": "2024-09-19T19:33:39.909915",
     "status": "completed"
    },
    "tags": []
   },
   "source": [
    "# Predicting"
   ]
  },
  {
   "cell_type": "code",
   "execution_count": 23,
   "id": "a44343bb",
   "metadata": {
    "execution": {
     "iopub.execute_input": "2024-09-19T19:33:40.696384Z",
     "iopub.status.busy": "2024-09-19T19:33:40.695897Z",
     "iopub.status.idle": "2024-09-19T19:33:40.705175Z",
     "shell.execute_reply": "2024-09-19T19:33:40.704053Z"
    },
    "papermill": {
     "duration": 0.252502,
     "end_time": "2024-09-19T19:33:40.707525",
     "exception": false,
     "start_time": "2024-09-19T19:33:40.455023",
     "status": "completed"
    },
    "tags": []
   },
   "outputs": [],
   "source": [
    "def SentimentAnalysis(text):\n",
    "    sentece = [text]\n",
    "    tokenized_sentence = tokenizer.texts_to_sequences(sentece)\n",
    "    input_sequence = pad_sequences(tokenized_sentence, maxlen=MAX_LENGTH, padding='pre')\n",
    "    prediction_ = model.predict(input_sequence)\n",
    "    print(prediction_)\n",
    "    prediction = prediction_.argmax()\n",
    "    print(prediction)\n",
    "    if prediction == 0:\n",
    "        print(f\"Negative 😠: [confidence - {prediction_[0][0]*100:.2f}%]\")\n",
    "    elif prediction == 1:\n",
    "        print(f\"Neutral 😐: [confidence - {prediction_[0][1]*100:.2f}%]\")\n",
    "    else:\n",
    "        print(f\"Positive 😊: [confidence -  {prediction_[0][2]*100:.2f}%]\")\n",
    "    plot = pd.DataFrame(prediction_, columns=['Negative', 'Neutral', 'Positive'])\n",
    "    plot.plot(kind='barh')\n",
    "    \n"
   ]
  },
  {
   "cell_type": "code",
   "execution_count": 24,
   "id": "a2dfd235",
   "metadata": {
    "execution": {
     "iopub.execute_input": "2024-09-19T19:33:41.187282Z",
     "iopub.status.busy": "2024-09-19T19:33:41.186805Z",
     "iopub.status.idle": "2024-09-19T19:33:41.881123Z",
     "shell.execute_reply": "2024-09-19T19:33:41.879978Z"
    },
    "papermill": {
     "duration": 0.938082,
     "end_time": "2024-09-19T19:33:41.883636",
     "exception": false,
     "start_time": "2024-09-19T19:33:40.945554",
     "status": "completed"
    },
    "tags": []
   },
   "outputs": [
    {
     "name": "stdout",
     "output_type": "stream",
     "text": [
      "\u001b[1m1/1\u001b[0m \u001b[32m━━━━━━━━━━━━━━━━━━━━\u001b[0m\u001b[37m\u001b[0m \u001b[1m0s\u001b[0m 189ms/step\n",
      "[[0.0163009  0.00561282 0.9780863 ]]\n",
      "2\n",
      "Positive 😊: [confidence -  97.81%]\n"
     ]
    },
    {
     "data": {
      "image/png": "[encoded data removed]",
      "text/plain": [
       "<Figure size 640x480 with 1 Axes>"
      ]
     },
     "metadata": {},
     "output_type": "display_data"
    }
   ],
   "source": [
    "SentimentAnalysis(\"I am happy\")"
   ]
  }
 ],
 "metadata": {
  "kaggle": {
   "accelerator": "none",
   "dataSources": [
    {
     "datasetId": 989445,
     "sourceId": 1808590,
     "sourceType": "datasetVersion"
    }
   ],
   "dockerImageVersionId": 30761,
   "isGpuEnabled": false,
   "isInternetEnabled": false,
   "language": "python",
   "sourceType": "notebook"
  },
  "kernelspec": {
   "display_name": "venv",
   "language": "python",
   "name": "python3"
  },
  "language_info": {
   "codemirror_mode": {
    "name": "ipython",
    "version": 3
   },
   "file_extension": ".py",
   "mimetype": "text/x-python",
   "name": "python",
   "nbconvert_exporter": "python",
   "pygments_lexer": "ipython3",
   "version": "3.12.3"
  },
  "papermill": {
   "default_parameters": {},
   "duration": 177.651069,
   "end_time": "2024-09-19T19:33:44.742430",
   "environment_variables": {},
   "exception": null,
   "input_path": "__notebook__.ipynb",
   "output_path": "__notebook__.ipynb",
   "parameters": {},
   "start_time": "2024-09-19T19:30:47.091361",
   "version": "2.6.0"
  }
 },
 "nbformat": 4,
 "nbformat_minor": 5
}
